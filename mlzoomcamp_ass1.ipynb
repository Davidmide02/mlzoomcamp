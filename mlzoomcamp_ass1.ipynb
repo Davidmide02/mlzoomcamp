{
  "nbformat": 4,
  "nbformat_minor": 0,
  "metadata": {
    "colab": {
      "provenance": [],
      "authorship_tag": "ABX9TyMX8O/QaNPUdj2GR54azt7R",
      "include_colab_link": true
    },
    "kernelspec": {
      "name": "python3",
      "display_name": "Python 3"
    },
    "language_info": {
      "name": "python"
    }
  },
  "cells": [
    {
      "cell_type": "markdown",
      "metadata": {
        "id": "view-in-github",
        "colab_type": "text"
      },
      "source": [
        "<a href=\"https://colab.research.google.com/github/Davidmide02/mlzoomcamp/blob/main/mlzoomcamp_ass1.ipynb\" target=\"_parent\"><img src=\"https://colab.research.google.com/assets/colab-badge.svg\" alt=\"Open In Colab\"/></a>"
      ]
    },
    {
      "cell_type": "code",
      "execution_count": 1,
      "metadata": {
        "id": "78FdnXKAIjFJ"
      },
      "outputs": [],
      "source": [
        "import numpy as np"
      ]
    },
    {
      "cell_type": "code",
      "source": [
        "import pandas as pd"
      ],
      "metadata": {
        "id": "pLTAD-ADJhon"
      },
      "execution_count": 2,
      "outputs": []
    },
    {
      "cell_type": "code",
      "source": [
        "import matplotlib.pyplot as plt"
      ],
      "metadata": {
        "id": "O75xMizSJoFc"
      },
      "execution_count": 3,
      "outputs": []
    },
    {
      "cell_type": "code",
      "source": [
        "import seaborn as sns"
      ],
      "metadata": {
        "id": "E9Z9YxM1JudJ"
      },
      "execution_count": 4,
      "outputs": []
    },
    {
      "cell_type": "code",
      "source": [
        "# Q1 pandas  version\n",
        "pd.__version__"
      ],
      "metadata": {
        "colab": {
          "base_uri": "https://localhost:8080/",
          "height": 35
        },
        "id": "mZ4wlR4OJxsh",
        "outputId": "6f316eed-7c81-44ec-8f8c-b38627e3e7bd"
      },
      "execution_count": 5,
      "outputs": [
        {
          "output_type": "execute_result",
          "data": {
            "text/plain": [
              "'2.1.4'"
            ],
            "application/vnd.google.colaboratory.intrinsic+json": {
              "type": "string"
            }
          },
          "metadata": {},
          "execution_count": 5
        }
      ]
    },
    {
      "cell_type": "code",
      "source": [
        "laptops_dataset = pd.read_csv('/content/laptops_dataset.csv')\n",
        "\n",
        "laptops_dataset.head(10)"
      ],
      "metadata": {
        "colab": {
          "base_uri": "https://localhost:8080/",
          "height": 747
        },
        "collapsed": true,
        "id": "YmIuUVjWKayp",
        "outputId": "10746dbe-12d5-4909-d067-d5c3c053213a"
      },
      "execution_count": 16,
      "outputs": [
        {
          "output_type": "execute_result",
          "data": {
            "text/plain": [
              "                                              Laptop Status   Brand  \\\n",
              "0  ASUS ExpertBook B1 B1502CBA-EJ0436X Intel Core...    New    Asus   \n",
              "1  Alurin Go Start Intel Celeron N4020/8GB/256GB ...    New  Alurin   \n",
              "2  ASUS ExpertBook B1 B1502CBA-EJ0424X Intel Core...    New    Asus   \n",
              "3  MSI Katana GF66 12UC-082XES Intel Core i7-1270...    New     MSI   \n",
              "4  HP 15S-FQ5085NS Intel Core i5-1235U/16GB/512GB...    New      HP   \n",
              "5  MSI Crosshair 17 C12VF-264XES Intel Core i7-12...    New     MSI   \n",
              "6  Lenovo Thinkpad E14 Gen 4 AMD Ryzen 5 5625U/8G...    New  Lenovo   \n",
              "7  ASUS VivoBook 15 F515JA-EJ2882W Intel Core i7-...    New    Asus   \n",
              "8  Medion Akoya E15415 Intel Core i5-10210U/8GB/2...    New  Medion   \n",
              "9  HP Victus 16-d1038ns Intel Core i7-12700H/16GB...    New      HP   \n",
              "\n",
              "        Model            CPU  RAM  Storage Storage type       GPU  Screen  \\\n",
              "0  ExpertBook  Intel Core i5    8      512          SSD       NaN    15.6   \n",
              "1          Go  Intel Celeron    8      256          SSD       NaN    15.6   \n",
              "2  ExpertBook  Intel Core i3    8      256          SSD       NaN    15.6   \n",
              "3      Katana  Intel Core i7   16     1000          SSD  RTX 3050    15.6   \n",
              "4         15S  Intel Core i5   16      512          SSD       NaN    15.6   \n",
              "5   Crosshair  Intel Core i7   32     1000          SSD  RTX 4060    17.3   \n",
              "6    ThinkPad    AMD Ryzen 5    8      256          SSD       NaN    14.0   \n",
              "7    VivoBook  Intel Core i7    8      512          SSD       NaN    15.6   \n",
              "8       Akoya  Intel Core i5    8      256          SSD       NaN    15.6   \n",
              "9      Victus  Intel Core i7   16      512          SSD  RTX 3050    16.1   \n",
              "\n",
              "  Touch  Final Price  \n",
              "0    No      1009.00  \n",
              "1    No       299.00  \n",
              "2    No       789.00  \n",
              "3    No      1199.00  \n",
              "4    No       669.01  \n",
              "5    No      1699.00  \n",
              "6    No       909.00  \n",
              "7    No       809.01  \n",
              "8    No       519.00  \n",
              "9    No      1149.00  "
            ],
            "text/html": [
              "\n",
              "  <div id=\"df-e0971855-4e11-4590-98f0-cb82a5b1c87a\" class=\"colab-df-container\">\n",
              "    <div>\n",
              "<style scoped>\n",
              "    .dataframe tbody tr th:only-of-type {\n",
              "        vertical-align: middle;\n",
              "    }\n",
              "\n",
              "    .dataframe tbody tr th {\n",
              "        vertical-align: top;\n",
              "    }\n",
              "\n",
              "    .dataframe thead th {\n",
              "        text-align: right;\n",
              "    }\n",
              "</style>\n",
              "<table border=\"1\" class=\"dataframe\">\n",
              "  <thead>\n",
              "    <tr style=\"text-align: right;\">\n",
              "      <th></th>\n",
              "      <th>Laptop</th>\n",
              "      <th>Status</th>\n",
              "      <th>Brand</th>\n",
              "      <th>Model</th>\n",
              "      <th>CPU</th>\n",
              "      <th>RAM</th>\n",
              "      <th>Storage</th>\n",
              "      <th>Storage type</th>\n",
              "      <th>GPU</th>\n",
              "      <th>Screen</th>\n",
              "      <th>Touch</th>\n",
              "      <th>Final Price</th>\n",
              "    </tr>\n",
              "  </thead>\n",
              "  <tbody>\n",
              "    <tr>\n",
              "      <th>0</th>\n",
              "      <td>ASUS ExpertBook B1 B1502CBA-EJ0436X Intel Core...</td>\n",
              "      <td>New</td>\n",
              "      <td>Asus</td>\n",
              "      <td>ExpertBook</td>\n",
              "      <td>Intel Core i5</td>\n",
              "      <td>8</td>\n",
              "      <td>512</td>\n",
              "      <td>SSD</td>\n",
              "      <td>NaN</td>\n",
              "      <td>15.6</td>\n",
              "      <td>No</td>\n",
              "      <td>1009.00</td>\n",
              "    </tr>\n",
              "    <tr>\n",
              "      <th>1</th>\n",
              "      <td>Alurin Go Start Intel Celeron N4020/8GB/256GB ...</td>\n",
              "      <td>New</td>\n",
              "      <td>Alurin</td>\n",
              "      <td>Go</td>\n",
              "      <td>Intel Celeron</td>\n",
              "      <td>8</td>\n",
              "      <td>256</td>\n",
              "      <td>SSD</td>\n",
              "      <td>NaN</td>\n",
              "      <td>15.6</td>\n",
              "      <td>No</td>\n",
              "      <td>299.00</td>\n",
              "    </tr>\n",
              "    <tr>\n",
              "      <th>2</th>\n",
              "      <td>ASUS ExpertBook B1 B1502CBA-EJ0424X Intel Core...</td>\n",
              "      <td>New</td>\n",
              "      <td>Asus</td>\n",
              "      <td>ExpertBook</td>\n",
              "      <td>Intel Core i3</td>\n",
              "      <td>8</td>\n",
              "      <td>256</td>\n",
              "      <td>SSD</td>\n",
              "      <td>NaN</td>\n",
              "      <td>15.6</td>\n",
              "      <td>No</td>\n",
              "      <td>789.00</td>\n",
              "    </tr>\n",
              "    <tr>\n",
              "      <th>3</th>\n",
              "      <td>MSI Katana GF66 12UC-082XES Intel Core i7-1270...</td>\n",
              "      <td>New</td>\n",
              "      <td>MSI</td>\n",
              "      <td>Katana</td>\n",
              "      <td>Intel Core i7</td>\n",
              "      <td>16</td>\n",
              "      <td>1000</td>\n",
              "      <td>SSD</td>\n",
              "      <td>RTX 3050</td>\n",
              "      <td>15.6</td>\n",
              "      <td>No</td>\n",
              "      <td>1199.00</td>\n",
              "    </tr>\n",
              "    <tr>\n",
              "      <th>4</th>\n",
              "      <td>HP 15S-FQ5085NS Intel Core i5-1235U/16GB/512GB...</td>\n",
              "      <td>New</td>\n",
              "      <td>HP</td>\n",
              "      <td>15S</td>\n",
              "      <td>Intel Core i5</td>\n",
              "      <td>16</td>\n",
              "      <td>512</td>\n",
              "      <td>SSD</td>\n",
              "      <td>NaN</td>\n",
              "      <td>15.6</td>\n",
              "      <td>No</td>\n",
              "      <td>669.01</td>\n",
              "    </tr>\n",
              "    <tr>\n",
              "      <th>5</th>\n",
              "      <td>MSI Crosshair 17 C12VF-264XES Intel Core i7-12...</td>\n",
              "      <td>New</td>\n",
              "      <td>MSI</td>\n",
              "      <td>Crosshair</td>\n",
              "      <td>Intel Core i7</td>\n",
              "      <td>32</td>\n",
              "      <td>1000</td>\n",
              "      <td>SSD</td>\n",
              "      <td>RTX 4060</td>\n",
              "      <td>17.3</td>\n",
              "      <td>No</td>\n",
              "      <td>1699.00</td>\n",
              "    </tr>\n",
              "    <tr>\n",
              "      <th>6</th>\n",
              "      <td>Lenovo Thinkpad E14 Gen 4 AMD Ryzen 5 5625U/8G...</td>\n",
              "      <td>New</td>\n",
              "      <td>Lenovo</td>\n",
              "      <td>ThinkPad</td>\n",
              "      <td>AMD Ryzen 5</td>\n",
              "      <td>8</td>\n",
              "      <td>256</td>\n",
              "      <td>SSD</td>\n",
              "      <td>NaN</td>\n",
              "      <td>14.0</td>\n",
              "      <td>No</td>\n",
              "      <td>909.00</td>\n",
              "    </tr>\n",
              "    <tr>\n",
              "      <th>7</th>\n",
              "      <td>ASUS VivoBook 15 F515JA-EJ2882W Intel Core i7-...</td>\n",
              "      <td>New</td>\n",
              "      <td>Asus</td>\n",
              "      <td>VivoBook</td>\n",
              "      <td>Intel Core i7</td>\n",
              "      <td>8</td>\n",
              "      <td>512</td>\n",
              "      <td>SSD</td>\n",
              "      <td>NaN</td>\n",
              "      <td>15.6</td>\n",
              "      <td>No</td>\n",
              "      <td>809.01</td>\n",
              "    </tr>\n",
              "    <tr>\n",
              "      <th>8</th>\n",
              "      <td>Medion Akoya E15415 Intel Core i5-10210U/8GB/2...</td>\n",
              "      <td>New</td>\n",
              "      <td>Medion</td>\n",
              "      <td>Akoya</td>\n",
              "      <td>Intel Core i5</td>\n",
              "      <td>8</td>\n",
              "      <td>256</td>\n",
              "      <td>SSD</td>\n",
              "      <td>NaN</td>\n",
              "      <td>15.6</td>\n",
              "      <td>No</td>\n",
              "      <td>519.00</td>\n",
              "    </tr>\n",
              "    <tr>\n",
              "      <th>9</th>\n",
              "      <td>HP Victus 16-d1038ns Intel Core i7-12700H/16GB...</td>\n",
              "      <td>New</td>\n",
              "      <td>HP</td>\n",
              "      <td>Victus</td>\n",
              "      <td>Intel Core i7</td>\n",
              "      <td>16</td>\n",
              "      <td>512</td>\n",
              "      <td>SSD</td>\n",
              "      <td>RTX 3050</td>\n",
              "      <td>16.1</td>\n",
              "      <td>No</td>\n",
              "      <td>1149.00</td>\n",
              "    </tr>\n",
              "  </tbody>\n",
              "</table>\n",
              "</div>\n",
              "    <div class=\"colab-df-buttons\">\n",
              "\n",
              "  <div class=\"colab-df-container\">\n",
              "    <button class=\"colab-df-convert\" onclick=\"convertToInteractive('df-e0971855-4e11-4590-98f0-cb82a5b1c87a')\"\n",
              "            title=\"Convert this dataframe to an interactive table.\"\n",
              "            style=\"display:none;\">\n",
              "\n",
              "  <svg xmlns=\"http://www.w3.org/2000/svg\" height=\"24px\" viewBox=\"0 -960 960 960\">\n",
              "    <path d=\"M120-120v-720h720v720H120Zm60-500h600v-160H180v160Zm220 220h160v-160H400v160Zm0 220h160v-160H400v160ZM180-400h160v-160H180v160Zm440 0h160v-160H620v160ZM180-180h160v-160H180v160Zm440 0h160v-160H620v160Z\"/>\n",
              "  </svg>\n",
              "    </button>\n",
              "\n",
              "  <style>\n",
              "    .colab-df-container {\n",
              "      display:flex;\n",
              "      gap: 12px;\n",
              "    }\n",
              "\n",
              "    .colab-df-convert {\n",
              "      background-color: #E8F0FE;\n",
              "      border: none;\n",
              "      border-radius: 50%;\n",
              "      cursor: pointer;\n",
              "      display: none;\n",
              "      fill: #1967D2;\n",
              "      height: 32px;\n",
              "      padding: 0 0 0 0;\n",
              "      width: 32px;\n",
              "    }\n",
              "\n",
              "    .colab-df-convert:hover {\n",
              "      background-color: #E2EBFA;\n",
              "      box-shadow: 0px 1px 2px rgba(60, 64, 67, 0.3), 0px 1px 3px 1px rgba(60, 64, 67, 0.15);\n",
              "      fill: #174EA6;\n",
              "    }\n",
              "\n",
              "    .colab-df-buttons div {\n",
              "      margin-bottom: 4px;\n",
              "    }\n",
              "\n",
              "    [theme=dark] .colab-df-convert {\n",
              "      background-color: #3B4455;\n",
              "      fill: #D2E3FC;\n",
              "    }\n",
              "\n",
              "    [theme=dark] .colab-df-convert:hover {\n",
              "      background-color: #434B5C;\n",
              "      box-shadow: 0px 1px 3px 1px rgba(0, 0, 0, 0.15);\n",
              "      filter: drop-shadow(0px 1px 2px rgba(0, 0, 0, 0.3));\n",
              "      fill: #FFFFFF;\n",
              "    }\n",
              "  </style>\n",
              "\n",
              "    <script>\n",
              "      const buttonEl =\n",
              "        document.querySelector('#df-e0971855-4e11-4590-98f0-cb82a5b1c87a button.colab-df-convert');\n",
              "      buttonEl.style.display =\n",
              "        google.colab.kernel.accessAllowed ? 'block' : 'none';\n",
              "\n",
              "      async function convertToInteractive(key) {\n",
              "        const element = document.querySelector('#df-e0971855-4e11-4590-98f0-cb82a5b1c87a');\n",
              "        const dataTable =\n",
              "          await google.colab.kernel.invokeFunction('convertToInteractive',\n",
              "                                                    [key], {});\n",
              "        if (!dataTable) return;\n",
              "\n",
              "        const docLinkHtml = 'Like what you see? Visit the ' +\n",
              "          '<a target=\"_blank\" href=https://colab.research.google.com/notebooks/data_table.ipynb>data table notebook</a>'\n",
              "          + ' to learn more about interactive tables.';\n",
              "        element.innerHTML = '';\n",
              "        dataTable['output_type'] = 'display_data';\n",
              "        await google.colab.output.renderOutput(dataTable, element);\n",
              "        const docLink = document.createElement('div');\n",
              "        docLink.innerHTML = docLinkHtml;\n",
              "        element.appendChild(docLink);\n",
              "      }\n",
              "    </script>\n",
              "  </div>\n",
              "\n",
              "\n",
              "<div id=\"df-1120c4bd-5ed7-44c7-99c4-5ddb56f1383b\">\n",
              "  <button class=\"colab-df-quickchart\" onclick=\"quickchart('df-1120c4bd-5ed7-44c7-99c4-5ddb56f1383b')\"\n",
              "            title=\"Suggest charts\"\n",
              "            style=\"display:none;\">\n",
              "\n",
              "<svg xmlns=\"http://www.w3.org/2000/svg\" height=\"24px\"viewBox=\"0 0 24 24\"\n",
              "     width=\"24px\">\n",
              "    <g>\n",
              "        <path d=\"M19 3H5c-1.1 0-2 .9-2 2v14c0 1.1.9 2 2 2h14c1.1 0 2-.9 2-2V5c0-1.1-.9-2-2-2zM9 17H7v-7h2v7zm4 0h-2V7h2v10zm4 0h-2v-4h2v4z\"/>\n",
              "    </g>\n",
              "</svg>\n",
              "  </button>\n",
              "\n",
              "<style>\n",
              "  .colab-df-quickchart {\n",
              "      --bg-color: #E8F0FE;\n",
              "      --fill-color: #1967D2;\n",
              "      --hover-bg-color: #E2EBFA;\n",
              "      --hover-fill-color: #174EA6;\n",
              "      --disabled-fill-color: #AAA;\n",
              "      --disabled-bg-color: #DDD;\n",
              "  }\n",
              "\n",
              "  [theme=dark] .colab-df-quickchart {\n",
              "      --bg-color: #3B4455;\n",
              "      --fill-color: #D2E3FC;\n",
              "      --hover-bg-color: #434B5C;\n",
              "      --hover-fill-color: #FFFFFF;\n",
              "      --disabled-bg-color: #3B4455;\n",
              "      --disabled-fill-color: #666;\n",
              "  }\n",
              "\n",
              "  .colab-df-quickchart {\n",
              "    background-color: var(--bg-color);\n",
              "    border: none;\n",
              "    border-radius: 50%;\n",
              "    cursor: pointer;\n",
              "    display: none;\n",
              "    fill: var(--fill-color);\n",
              "    height: 32px;\n",
              "    padding: 0;\n",
              "    width: 32px;\n",
              "  }\n",
              "\n",
              "  .colab-df-quickchart:hover {\n",
              "    background-color: var(--hover-bg-color);\n",
              "    box-shadow: 0 1px 2px rgba(60, 64, 67, 0.3), 0 1px 3px 1px rgba(60, 64, 67, 0.15);\n",
              "    fill: var(--button-hover-fill-color);\n",
              "  }\n",
              "\n",
              "  .colab-df-quickchart-complete:disabled,\n",
              "  .colab-df-quickchart-complete:disabled:hover {\n",
              "    background-color: var(--disabled-bg-color);\n",
              "    fill: var(--disabled-fill-color);\n",
              "    box-shadow: none;\n",
              "  }\n",
              "\n",
              "  .colab-df-spinner {\n",
              "    border: 2px solid var(--fill-color);\n",
              "    border-color: transparent;\n",
              "    border-bottom-color: var(--fill-color);\n",
              "    animation:\n",
              "      spin 1s steps(1) infinite;\n",
              "  }\n",
              "\n",
              "  @keyframes spin {\n",
              "    0% {\n",
              "      border-color: transparent;\n",
              "      border-bottom-color: var(--fill-color);\n",
              "      border-left-color: var(--fill-color);\n",
              "    }\n",
              "    20% {\n",
              "      border-color: transparent;\n",
              "      border-left-color: var(--fill-color);\n",
              "      border-top-color: var(--fill-color);\n",
              "    }\n",
              "    30% {\n",
              "      border-color: transparent;\n",
              "      border-left-color: var(--fill-color);\n",
              "      border-top-color: var(--fill-color);\n",
              "      border-right-color: var(--fill-color);\n",
              "    }\n",
              "    40% {\n",
              "      border-color: transparent;\n",
              "      border-right-color: var(--fill-color);\n",
              "      border-top-color: var(--fill-color);\n",
              "    }\n",
              "    60% {\n",
              "      border-color: transparent;\n",
              "      border-right-color: var(--fill-color);\n",
              "    }\n",
              "    80% {\n",
              "      border-color: transparent;\n",
              "      border-right-color: var(--fill-color);\n",
              "      border-bottom-color: var(--fill-color);\n",
              "    }\n",
              "    90% {\n",
              "      border-color: transparent;\n",
              "      border-bottom-color: var(--fill-color);\n",
              "    }\n",
              "  }\n",
              "</style>\n",
              "\n",
              "  <script>\n",
              "    async function quickchart(key) {\n",
              "      const quickchartButtonEl =\n",
              "        document.querySelector('#' + key + ' button');\n",
              "      quickchartButtonEl.disabled = true;  // To prevent multiple clicks.\n",
              "      quickchartButtonEl.classList.add('colab-df-spinner');\n",
              "      try {\n",
              "        const charts = await google.colab.kernel.invokeFunction(\n",
              "            'suggestCharts', [key], {});\n",
              "      } catch (error) {\n",
              "        console.error('Error during call to suggestCharts:', error);\n",
              "      }\n",
              "      quickchartButtonEl.classList.remove('colab-df-spinner');\n",
              "      quickchartButtonEl.classList.add('colab-df-quickchart-complete');\n",
              "    }\n",
              "    (() => {\n",
              "      let quickchartButtonEl =\n",
              "        document.querySelector('#df-1120c4bd-5ed7-44c7-99c4-5ddb56f1383b button');\n",
              "      quickchartButtonEl.style.display =\n",
              "        google.colab.kernel.accessAllowed ? 'block' : 'none';\n",
              "    })();\n",
              "  </script>\n",
              "</div>\n",
              "\n",
              "    </div>\n",
              "  </div>\n"
            ],
            "application/vnd.google.colaboratory.intrinsic+json": {
              "type": "dataframe",
              "variable_name": "laptops_dataset",
              "summary": "{\n  \"name\": \"laptops_dataset\",\n  \"rows\": 2160,\n  \"fields\": [\n    {\n      \"column\": \"Laptop\",\n      \"properties\": {\n        \"dtype\": \"string\",\n        \"num_unique_values\": 2160,\n        \"samples\": [\n          \"MSI Modern 15 A11SBU-620XES Intel Core i7-1165G7/32GB/1TB SSD/MX450/15.6\\\"\",\n          \"Thomson Neo White Intel Celeron N4020/4GB/64GB eMMC/14.1\\\"\",\n          \"MSI Modern 14 B11SB-420XES Intel Core i7-1165G7/32GB/1TB SSD/MX450/14\\\"\"\n        ],\n        \"semantic_type\": \"\",\n        \"description\": \"\"\n      }\n    },\n    {\n      \"column\": \"Status\",\n      \"properties\": {\n        \"dtype\": \"category\",\n        \"num_unique_values\": 2,\n        \"samples\": [\n          \"Refurbished\",\n          \"New\"\n        ],\n        \"semantic_type\": \"\",\n        \"description\": \"\"\n      }\n    },\n    {\n      \"column\": \"Brand\",\n      \"properties\": {\n        \"dtype\": \"category\",\n        \"num_unique_values\": 27,\n        \"samples\": [\n          \"Razer\",\n          \"PcCom\"\n        ],\n        \"semantic_type\": \"\",\n        \"description\": \"\"\n      }\n    },\n    {\n      \"column\": \"Model\",\n      \"properties\": {\n        \"dtype\": \"category\",\n        \"num_unique_values\": 121,\n        \"samples\": [\n          \"Aero\",\n          \"Erazer\"\n        ],\n        \"semantic_type\": \"\",\n        \"description\": \"\"\n      }\n    },\n    {\n      \"column\": \"CPU\",\n      \"properties\": {\n        \"dtype\": \"category\",\n        \"num_unique_values\": 28,\n        \"samples\": [\n          \"Apple M2\",\n          \"AMD 3015Ce\"\n        ],\n        \"semantic_type\": \"\",\n        \"description\": \"\"\n      }\n    },\n    {\n      \"column\": \"RAM\",\n      \"properties\": {\n        \"dtype\": \"number\",\n        \"std\": 9,\n        \"min\": 4,\n        \"max\": 128,\n        \"num_unique_values\": 9,\n        \"samples\": [\n          6,\n          16\n        ],\n        \"semantic_type\": \"\",\n        \"description\": \"\"\n      }\n    },\n    {\n      \"column\": \"Storage\",\n      \"properties\": {\n        \"dtype\": \"number\",\n        \"std\": 361,\n        \"min\": 0,\n        \"max\": 4000,\n        \"num_unique_values\": 12,\n        \"samples\": [\n          3000,\n          4000\n        ],\n        \"semantic_type\": \"\",\n        \"description\": \"\"\n      }\n    },\n    {\n      \"column\": \"Storage type\",\n      \"properties\": {\n        \"dtype\": \"category\",\n        \"num_unique_values\": 2,\n        \"samples\": [\n          \"eMMC\",\n          \"SSD\"\n        ],\n        \"semantic_type\": \"\",\n        \"description\": \"\"\n      }\n    },\n    {\n      \"column\": \"GPU\",\n      \"properties\": {\n        \"dtype\": \"category\",\n        \"num_unique_values\": 44,\n        \"samples\": [\n          \"RTX 2080\",\n          \"Radeon Pro 5500M\"\n        ],\n        \"semantic_type\": \"\",\n        \"description\": \"\"\n      }\n    },\n    {\n      \"column\": \"Screen\",\n      \"properties\": {\n        \"dtype\": \"number\",\n        \"std\": 1.2033287583284522,\n        \"min\": 10.1,\n        \"max\": 18.0,\n        \"num_unique_values\": 29,\n        \"samples\": [\n          12.0,\n          16.2\n        ],\n        \"semantic_type\": \"\",\n        \"description\": \"\"\n      }\n    },\n    {\n      \"column\": \"Touch\",\n      \"properties\": {\n        \"dtype\": \"category\",\n        \"num_unique_values\": 2,\n        \"samples\": [\n          \"Yes\",\n          \"No\"\n        ],\n        \"semantic_type\": \"\",\n        \"description\": \"\"\n      }\n    },\n    {\n      \"column\": \"Final Price\",\n      \"properties\": {\n        \"dtype\": \"number\",\n        \"std\": 911.4754170328515,\n        \"min\": 201.05,\n        \"max\": 7150.47,\n        \"num_unique_values\": 1440,\n        \"samples\": [\n          3599.0,\n          1799.9\n        ],\n        \"semantic_type\": \"\",\n        \"description\": \"\"\n      }\n    }\n  ]\n}"
            }
          },
          "metadata": {},
          "execution_count": 16
        }
      ]
    },
    {
      "cell_type": "code",
      "source": [
        "laptops_dataset.info()"
      ],
      "metadata": {
        "colab": {
          "base_uri": "https://localhost:8080/"
        },
        "collapsed": true,
        "id": "j-Mrb_gtLy2P",
        "outputId": "39ebac54-0b50-408c-d0e6-b64316237179"
      },
      "execution_count": 9,
      "outputs": [
        {
          "output_type": "stream",
          "name": "stdout",
          "text": [
            "<class 'pandas.core.frame.DataFrame'>\n",
            "RangeIndex: 2160 entries, 0 to 2159\n",
            "Data columns (total 12 columns):\n",
            " #   Column        Non-Null Count  Dtype  \n",
            "---  ------        --------------  -----  \n",
            " 0   Laptop        2160 non-null   object \n",
            " 1   Status        2160 non-null   object \n",
            " 2   Brand         2160 non-null   object \n",
            " 3   Model         2160 non-null   object \n",
            " 4   CPU           2160 non-null   object \n",
            " 5   RAM           2160 non-null   int64  \n",
            " 6   Storage       2160 non-null   int64  \n",
            " 7   Storage type  2118 non-null   object \n",
            " 8   GPU           789 non-null    object \n",
            " 9   Screen        2156 non-null   float64\n",
            " 10  Touch         2160 non-null   object \n",
            " 11  Final Price   2160 non-null   float64\n",
            "dtypes: float64(2), int64(2), object(8)\n",
            "memory usage: 202.6+ KB\n"
          ]
        }
      ]
    },
    {
      "cell_type": "code",
      "source": [
        "# Q2 total records\n",
        "num_records = laptops_dataset.shape[0]\n",
        "print(f\"The dataset contains {num_records} records.\")"
      ],
      "metadata": {
        "colab": {
          "base_uri": "https://localhost:8080/"
        },
        "id": "TT7kVT38L0eG",
        "outputId": "65781294-6bcc-4edc-e295-5f591d607102"
      },
      "execution_count": 12,
      "outputs": [
        {
          "output_type": "stream",
          "name": "stdout",
          "text": [
            "The dataset contains 2160 records.\n"
          ]
        }
      ]
    },
    {
      "cell_type": "code",
      "source": [
        "# Q3 How many laptop brands are presented in the dataset?\n",
        "\n",
        "num_brands = laptops_dataset['Brand'].nunique()\n",
        "print(f\"The dataset contains {num_brands} laptop brands.\")"
      ],
      "metadata": {
        "colab": {
          "base_uri": "https://localhost:8080/"
        },
        "id": "mngqqftlMtfb",
        "outputId": "66a8d4c1-23d8-42d3-956a-c97d91937da4"
      },
      "execution_count": 13,
      "outputs": [
        {
          "output_type": "stream",
          "name": "stdout",
          "text": [
            "The dataset contains 27 laptop brands.\n"
          ]
        }
      ]
    },
    {
      "cell_type": "code",
      "source": [
        "# Q4 How many columns in the dataset have missing values?\n",
        "\n",
        "num_missing_columns = laptops_dataset.isna().any().sum()\n",
        "print(f\"The dataset has {num_missing_columns} columns with missing values.\")\n"
      ],
      "metadata": {
        "colab": {
          "base_uri": "https://localhost:8080/"
        },
        "id": "cN7xgTs3M0YI",
        "outputId": "8783f214-dd8e-4951-bfbe-05347d24dbd0"
      },
      "execution_count": 14,
      "outputs": [
        {
          "output_type": "stream",
          "name": "stdout",
          "text": [
            "The dataset has 3 columns with missing values.\n"
          ]
        }
      ]
    },
    {
      "cell_type": "code",
      "source": [
        "# Q5 What's the maximum final price of Dell notebooks in the dataset?\n",
        "\n",
        "\n",
        "max_final_price = laptops_dataset[laptops_dataset['Brand'] == 'Dell']['Final Price'].max()\n",
        "print(f\"The maximum final price of Dell notebooks in the dataset is: {max_final_price}\")"
      ],
      "metadata": {
        "colab": {
          "base_uri": "https://localhost:8080/"
        },
        "collapsed": true,
        "id": "xM3ePvmNNLDi",
        "outputId": "f3b6320b-88d5-48b9-ea45-aae439fdfab0"
      },
      "execution_count": 49,
      "outputs": [
        {
          "output_type": "stream",
          "name": "stdout",
          "text": [
            "The maximum final price of Dell notebooks in the dataset is: 3936.0\n"
          ]
        }
      ]
    },
    {
      "cell_type": "code",
      "source": [
        "dell_lap = laptops_dataset[laptops_dataset['Brand'] == 'Dell']\n",
        "max_price_dell =dell_lap['Final Price'].max()\n",
        "\n",
        "print(f'maximum final price for Dell notebooks is {max_price_dell}')"
      ],
      "metadata": {
        "colab": {
          "base_uri": "https://localhost:8080/"
        },
        "collapsed": true,
        "id": "4gC63WfSRoyl",
        "outputId": "931c5409-3fa6-4faf-e07d-68c6ffbb4f62"
      },
      "execution_count": 47,
      "outputs": [
        {
          "output_type": "stream",
          "name": "stdout",
          "text": [
            "maximum final price for Dell notebooks is 3936.0\n"
          ]
        }
      ]
    },
    {
      "cell_type": "code",
      "source": [
        "dell_lap.info()"
      ],
      "metadata": {
        "colab": {
          "base_uri": "https://localhost:8080/"
        },
        "collapsed": true,
        "id": "2nvUUIUcS5RW",
        "outputId": "32373316-af2a-4860-971c-e5622df51422"
      },
      "execution_count": 36,
      "outputs": [
        {
          "output_type": "stream",
          "name": "stdout",
          "text": [
            "<class 'pandas.core.frame.DataFrame'>\n",
            "Index: 84 entries, 161 to 1847\n",
            "Data columns (total 12 columns):\n",
            " #   Column        Non-Null Count  Dtype  \n",
            "---  ------        --------------  -----  \n",
            " 0   Laptop        84 non-null     object \n",
            " 1   Status        84 non-null     object \n",
            " 2   Brand         84 non-null     object \n",
            " 3   Model         84 non-null     object \n",
            " 4   CPU           84 non-null     object \n",
            " 5   RAM           84 non-null     int64  \n",
            " 6   Storage       84 non-null     int64  \n",
            " 7   Storage type  84 non-null     object \n",
            " 8   GPU           6 non-null      object \n",
            " 9   Screen        84 non-null     float64\n",
            " 10  Touch         84 non-null     object \n",
            " 11  Final Price   84 non-null     float64\n",
            "dtypes: float64(2), int64(2), object(8)\n",
            "memory usage: 8.5+ KB\n"
          ]
        }
      ]
    },
    {
      "cell_type": "code",
      "source": [
        "for i in range(len(dell_lap)):\n",
        "  print(dell_lap.iloc[i]['Laptop'])"
      ],
      "metadata": {
        "colab": {
          "base_uri": "https://localhost:8080/"
        },
        "collapsed": true,
        "id": "GgavsMiDUIdk",
        "outputId": "b213f573-b6b7-4192-d5b1-e6e2c59dd3fe"
      },
      "execution_count": 43,
      "outputs": [
        {
          "output_type": "stream",
          "name": "stdout",
          "text": [
            "Dell Vostro 3510 Intel Core i3-1115G4/8 GB/256GB SSD/15.6\"\n",
            "Dell Vostro 3510 Intel Core i5-1135G7/8 GB/256GB SSD/15.6\"\n",
            "Dell Vostro 3520 Intel Core i7-1255U/16GB/512GB SSD/15.6\"\n",
            "Dell Latitude 3520 Intel Core i5-1135G7/8GB/256 GB SSD/15.6\"\n",
            "Dell Vostro 3510 Intel Core i5-1135G7/16 GB/512GB SSD/15.6\"\n",
            "Dell Vostro 5625 AMD Ryzen 5 5625U/8GB/256GB SSD/16\"\n",
            "Dell Vostro 3510 Intel Core i5-1135G7/8GB/512GB SSD/15.6\"\n",
            "Dell Vostro 3520 Intel Core i7-1255U/16 GB/512GB SSD/15.6\" (PT)\n",
            "Dell XPS 13 9315 Intel Core i5-1230U/16GB/512GB SSD/13.4'' (PT)\n",
            "Dell Latitude 9510 Intel Core i5-10210U/8GB/256GB SSD/15\"\n",
            "Dell Latitude E5440 Intel Core i5-4310U/8GB/128GB SSD/14\"\n",
            "Dell Latitude 3520 Intel Core i5-1135G7/8 GB/256GB SSD/15.6\"\n",
            "Dell Latitude E7470  Intel Core i5-6200U/16GB/256GB SSD/14\"\n",
            "Dell Vostro 3420 Intel Core i5-1135G7/8 GB/512GB SSD/14\"\n",
            "Dell XPS 13 9315 Intel Core i7-1250U/16GB/512GB SSD/13.4'' Tátil (PT)\n",
            "Dell XPS 15 9520 Intel Core i7-12700H/16GB/1TB SSD/RTX3050 Ti/15.6\"\n",
            "Dell Latitude E7450 Intel Core i5-5300U/8GB/256GB SSD/14\"\n",
            "Dell Latitude 5430 Intel Core i7-1255U/16GB/512GB SSD/14\"\n",
            "Dell Vostro 3420 Intel Core i7-1165G7/16 GB/512GB SSD/14\"\n",
            "Dell Latitude 7320 Detachable Intel Evo Core i7-1180G7/16GB/512GB SSD/13\" Táctil\n",
            "Dell Latitude 3420 Intel Core i7-1165G7/16GB/512GB SSD/14\"\n",
            "Dell Vostro 5620 Intel Core i7-1260P/16GB/512GB SSD/16\"\n",
            "Dell Vostro 3420 Intel Core i5-1135G7/8GB/256GB SSD/14\" (PT)\n",
            "Dell Latitude 5330 Intel Core i5-1235U/16GB/512GB SSD/13.3\"\n",
            "Dell Latitude 7490 Intel Core i5-8350U/8GB/512GB SSD/14\"\n",
            "Dell Latitude 5510 Intel Core i5-10210U/8GB/256GB SSD/15.6\"\n",
            "Dell Vostro 15 AMD Ryzen 5 5625U/8GB/256GB SSD/15.6\"\n",
            "Dell Vostro 5320 Intel Evo Core i7-1260P/16GB/512GB SSD/13.3\"\n",
            "Dell Vostro 3510 Intel Core i7-1165G7/16GB/512GB SSD/15.6\"\n",
            "Dell Latitude 5330 Intel Core i7-1265U/16GB/512GB SSD/13.3\"\n",
            "Dell Latitude 5530 Intel Core i7-1255U/16GB/512GB SSD/15.6\"\n",
            "Dell Latitude 5430 Intel Core i5-1235U/8GB/256GB SSD/14\"\n",
            "Dell Latitude 3330 Intel Core i5-1155G7/8 GB/256GB SSD/13.3\"\n",
            "Dell Vostro 5620 Intel Core i5-1240P/16GB/512GB SSD/16\"\n",
            "Dell Vostro 5320 Intel Evo Core i5-1240P/16GB/512GB SSD/13.3\"\n",
            "Dell Latitude 5520 Intel Core i5-1135G7/8 GB/256GB SSD/15.6\"\n",
            "Dell Latitude 7490 Intel Core i5-8350U/8GB/256GB SSD/14\"\n",
            "Dell Latitude 3320 Intel Core i7-1165G7/8GB/512GB SSD/13.3\"\n",
            "Dell Latitude 3330 Intel Core i5-1155G7/8GB/256GB SSD/13.3\"\n",
            "Dell Latitude 3410 Intel Core i7-10510U/8GB/256GB SSD/14\"\n",
            "Dell Latitude 3420 Intel Core i5-1135G7/16 GB/512GB SSD/14\" (PT)\n",
            "Dell Latitude 3420 Intel Core i5-1135G7/16GB/512GB SSD/14\"\n",
            "Dell Latitude 3520 Intel Core i5-1135G7/8GB/256GB SSD/15.6'' (PT)\n",
            "Dell Latitude 3520 Intel Core i7-1165G7/16GB/512GB SSD/15.6\" (PT)\n",
            "Dell Latitude 5320 Intel Core i5-1135G7/8 GB/256GB SSD/13.3\"\n",
            "Dell Latitude 5330 Intel Core i5-1235U/8GB/256GB SSD/13.3\"\n",
            "Dell Latitude 5520 Intel Core i5-1135G7/8GB/256GB SSD/15.6\"\n",
            "Dell Latitude 5530 Intel Core i5-1235U/8GB/256GB SSD/15.6\"\n",
            "Dell Latitude 5540 Intel Core i5-1335U/8GB/256GB SSD/15.6\"\n",
            "Dell Latitude 7430 Intel Core i5-1235U/16GB/512GB SSD/14\"\n",
            "Dell Latitude 7430 Intel Core i7-1255U/16GB/512GB SSD/14\"\n",
            "Dell Latitude 7520 Intel Core i7-1185G7/16GB/512GB SSD/15.6\"\n",
            "Dell Latitude 7530 Intel Core i5-1235U/16GB/512GB SSD/15.6\"\n",
            "Dell Latitude 7530 Intel Core i5-1235U/16GB/512GB SSD/15.6\" (PT)\n",
            "Dell Latitude 7530 Intel Core i7-1255U/16GB/512GB SSD/15.6\"\n",
            "Dell Precision 3560 Intel Core i5-1135G7/8 GB/256GB SSD/15.6\"\n",
            "Dell Precision 3560 Intel Core i5-1135G7/8 GB/512GB SSD/Quadro T500/15.6\"\n",
            "Dell Precision 5470 Intel Core i7-12800H/16GB/512GB SSD/RTX A1000/14\"\n",
            "Dell Precision 5770 Intel Core i7-12700H/16GB/512GB SSD/RTX A2000/17\" Táctil\n",
            "Dell Vostro 3400 Intel Core i5-1135G7/8GB/512GB SSD/14\"\n",
            "Dell Vostro 3420 Intel Core i5-1135G7/8 GB/256GB SSD/14\"\n",
            "Dell Vostro 3500 Intel Core i3-1115G4/8GB/256GB SSD/15.6\"\n",
            "Dell Vostro 3501 Intel Core i3-1005G1/4 GB/256GB SSD/15.6\"\n",
            "Dell Vostro 3501 Intel Core i3-1005G1/8GB/256GB SSD/15.6\"\n",
            "Dell Vostro 3510 Intel Core i5-1035G1/8GB/256GB SSD/15.6\"\n",
            "Dell Vostro 5320 Intel Evo Core i5-1240P/8GB/256GB SSD/13.3\"\n",
            "Dell Vostro 5510 Intel Core i5-11300H/8GB/256GB SSD/15.6\"\n",
            "Dell Vostro 5515 AMD Ryzen 5 5500U/8GB/256GB SSD/15.6\"\n",
            "Dell Vostro 5620 Intel Core i5-1240P/8GB/256GB SSD/16\"\n",
            "Dell XPS 15 9520 Intel Core i7-12700H/16GB RAM/1TB SSD/RTX 3050 Ti/15.6'' (PT)\n",
            "Dell XPS 15 9520 Intel Core i7-12700H/32GB/1TB SSD/RTX3050 Ti/15.6\" Táctil\n",
            "Dell Latitude 3400 Intel Core i5-8265U/8GB/256GB SSD/14\"\n",
            "Dell Latitude 5480 Intel Core i5-7300U/8GB/256GB SSD/14\"\n",
            "Dell Latitude 5490 Intel Core i5-8250U/8GB/256GB SSD/14\"\n",
            "Dell Latitude E5470 Intel Core i5-6300U/8GB/240GB SSD/14\"\n",
            "Dell Latitude E5550 Intel Core i5-5300U/8GB/128GB SSD/15.6\"\n",
            "Dell Latitude E7470 Intel Core i5-6300U/16GB/256GB SSD/14\"\n",
            "Dell Latitude E7470 Intel Core i5-6300U/8GB/256GB SSD/14\"\n",
            "Dell Vostro 3515 AMD Ryzen 5 3450U/8 GB/256GB SSD/15.6\"\n",
            "Dell Vostro 5301 Intel Core i5-1135G7/8GB/256GB SSD/13.3\"\n",
            "Dell Vostro 5301 Intel Core i5-1135G7/8GB/512GB SSD/13.3\"\n",
            "Dell Vostro 5502 Intel Core i5-1135G7/8GB/512GB SSD/15.6\"\n",
            "Dell XPS 13 9300 Intel Core i5-1035G1/8GB/512GB SSD/13.4\"\n",
            "Dell XPS 7390 Intel Core i7-10510U/16GB/512GB SSD/13.3\"\n"
          ]
        }
      ]
    },
    {
      "cell_type": "code",
      "source": [
        "# Q6. Median value of Screen\n",
        "median_value_screen = laptops_dataset['Screen'].median()\n",
        "print(f\"The median value of the 'Screen' column is: {median_value_screen}\")"
      ],
      "metadata": {
        "colab": {
          "base_uri": "https://localhost:8080/"
        },
        "id": "sfUio-G6UyTF",
        "outputId": "30a0a6ca-5786-4a79-f0d3-7dd66ab92e34"
      },
      "execution_count": 50,
      "outputs": [
        {
          "output_type": "stream",
          "name": "stdout",
          "text": [
            "The median value of the 'Screen' column is: 15.6\n"
          ]
        }
      ]
    },
    {
      "cell_type": "code",
      "source": [
        "# Q6b. Mode/most frequent value of Screen\n",
        "mode_value_screen = laptops_dataset['Screen'].mode()\n",
        "print(f\"The mode value of the 'Screen' column is: {mode_value_screen}\")"
      ],
      "metadata": {
        "colab": {
          "base_uri": "https://localhost:8080/"
        },
        "id": "qOyqqlJoYLJO",
        "outputId": "e31a07ef-cea8-4a40-a7c4-1855c69ecf31"
      },
      "execution_count": 51,
      "outputs": [
        {
          "output_type": "stream",
          "name": "stdout",
          "text": [
            "The mode value of the 'Screen' column is: 0    15.6\n",
            "Name: Screen, dtype: float64\n"
          ]
        }
      ]
    },
    {
      "cell_type": "code",
      "source": [
        "# Q6c replace missing value\n",
        "# laptops_dataset['Screen'].fillna(laptops_dataset['Screen'].mode()[0], inplace=True)\n",
        "\n",
        "laptops_dataset['Screen'].isna().sum()\n",
        "#"
      ],
      "metadata": {
        "colab": {
          "base_uri": "https://localhost:8080/"
        },
        "id": "LVwNdNc-YlDc",
        "outputId": "defc18a7-263e-4065-df9d-c1dcb6ab0e24"
      },
      "execution_count": 52,
      "outputs": [
        {
          "output_type": "execute_result",
          "data": {
            "text/plain": [
              "4"
            ]
          },
          "metadata": {},
          "execution_count": 52
        }
      ]
    },
    {
      "cell_type": "code",
      "source": [
        "laptops_dataset['Screen'].fillna(mode_value_screen, inplace=True)"
      ],
      "metadata": {
        "id": "sbOkF06dZDBU"
      },
      "execution_count": 53,
      "outputs": []
    },
    {
      "cell_type": "code",
      "source": [
        "# Q6d recalculating me\n",
        "median_value_screen_after = laptops_dataset['Screen'].median()\n",
        "print(f\"The median value of the 'Screen' column now is: {median_value_screen_after}\")\n",
        "\n",
        "print(f'Median value before {median_value_screen}, after {median_value_screen_after}')\n",
        "if median_value_screen == median_value_screen_after:\n",
        "  print('No Median value did not change')\n",
        "elif median_value_screen > median_value_screen_after:\n",
        "  print('Yes Median value decreased')\n",
        "else:\n",
        "  print('Yes Median value increased')\n",
        "#"
      ],
      "metadata": {
        "colab": {
          "base_uri": "https://localhost:8080/"
        },
        "id": "p2FEGFyuZeGo",
        "outputId": "42b8d1ff-e32b-42de-9cb5-6a722bbfdd8a"
      },
      "execution_count": 57,
      "outputs": [
        {
          "output_type": "stream",
          "name": "stdout",
          "text": [
            "The median value of the 'Screen' column now is: 15.6\n",
            "Median value before 15.6, after 15.6\n",
            "No Median value did not change\n"
          ]
        }
      ]
    },
    {
      "cell_type": "code",
      "source": [
        "# Select all the \"Innjoo\" laptops from the dataset.\n",
        "# Select only columns RAM, Storage, Screen.\n",
        "# Get the underlying NumPy array. Let's call it X.\n",
        "# Compute matrix-matrix multiplication between the transpose of X and X. To get the transpose, use X.T. Let's call the result XTX.\n",
        "# Compute the inverse of XTX.\n",
        "# Create an array y with values [1100, 1300, 800, 900, 1000, 1100].\n",
        "# Multiply the inverse of XTX with the\n",
        "\n",
        "innjoo_laptops = laptops_dataset[laptops_dataset['Brand'] == 'Innjoo']\n",
        "selected_columns = innjoo_laptops[['RAM', 'Storage', 'Screen']]\n",
        "X = selected_columns.to_numpy()\n",
        "XTX = np.dot(X.T, X)\n",
        "try:\n",
        "  XTX_inv = np.linalg.inv(XTX)\n",
        "except np.linalg.LinAlgError:\n",
        "  print(\"XTX is not invertible\")\n",
        "  XTX_inv = None\n",
        "y = np.array([1100, 1300, 800, 900, 1000, 1100])\n",
        "\n",
        "if XTX_inv is not None:\n",
        "    w = np.dot(np.dot(XTX_inv, X.T), y)\n",
        "    w = w.sum()\n",
        "    print(f'sum of the result (w): {w}')\n",
        "\n"
      ],
      "metadata": {
        "colab": {
          "base_uri": "https://localhost:8080/"
        },
        "id": "BmVgeIXrao9I",
        "outputId": "3208f17c-6e21-480b-8e80-b19632ca5bc5"
      },
      "execution_count": 65,
      "outputs": [
        {
          "output_type": "stream",
          "name": "stdout",
          "text": [
            "sum of the result (w): 91.2998806299555\n"
          ]
        }
      ]
    },
    {
      "cell_type": "code",
      "source": [],
      "metadata": {
        "id": "zSttn66ocjPv"
      },
      "execution_count": null,
      "outputs": []
    }
  ]
}